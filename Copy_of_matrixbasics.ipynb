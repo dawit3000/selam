{
  "cells": [
    {
      "cell_type": "markdown",
      "metadata": {
        "id": "view-in-github",
        "colab_type": "text"
      },
      "source": [
        "<a href=\"https://colab.research.google.com/github/dawit3000/selam/blob/master/Copy_of_matrixbasics.ipynb\" target=\"_parent\"><img src=\"https://colab.research.google.com/assets/colab-badge.svg\" alt=\"Open In Colab\"/></a>"
      ]
    },
    {
      "cell_type": "code",
      "execution_count": null,
      "metadata": {
        "id": "FHUSC3qkypQy"
      },
      "outputs": [],
      "source": [
        "from sympy import *\n",
        "init_printing()"
      ]
    },
    {
      "cell_type": "code",
      "execution_count": null,
      "metadata": {
        "colab": {
          "base_uri": "https://localhost:8080/",
          "height": 78
        },
        "id": "dwcWZuG3zbk9",
        "outputId": "6b3540b9-be4a-4abe-bd4b-9b87e11d81fe"
      },
      "outputs": [
        {
          "output_type": "execute_result",
          "data": {
            "text/plain": [
              "⎡-3  -2  0   2  0⎤\n",
              "⎢                ⎥\n",
              "⎢1   1   -1  1  1⎥\n",
              "⎢                ⎥\n",
              "⎣1   3   -1  1  5⎦"
            ],
            "text/latex": "$\\displaystyle \\left[\\begin{matrix}-3 & -2 & 0 & 2 & 0\\\\1 & 1 & -1 & 1 & 1\\\\1 & 3 & -1 & 1 & 5\\end{matrix}\\right]$"
          },
          "metadata": {},
          "execution_count": 11
        }
      ],
      "source": [
        "A = Matrix([[-3,-2,0,2,0],[1,1,-1,1,1],[1,3,-1,1,5]]) ## This defines matrix A\n",
        "A  ## This Displays A"
      ]
    },
    {
      "cell_type": "code",
      "execution_count": null,
      "metadata": {
        "colab": {
          "base_uri": "https://localhost:8080/",
          "height": 78
        },
        "id": "39F3rpxSCAV4",
        "outputId": "c6fd17bf-9461-4e62-a126-d67f0bc07def"
      },
      "outputs": [
        {
          "output_type": "execute_result",
          "data": {
            "text/plain": [
              "⎡1  2   -1  1  3 ⎤\n",
              "⎢                ⎥\n",
              "⎢0  -1  0   0  -2⎥\n",
              "⎢                ⎥\n",
              "⎣0  0   0   0  0 ⎦"
            ],
            "text/latex": "$\\displaystyle \\left[\\begin{matrix}1 & 2 & -1 & 1 & 3\\\\0 & -1 & 0 & 0 & -2\\\\0 & 0 & 0 & 0 & 0\\end{matrix}\\right]$"
          },
          "metadata": {},
          "execution_count": 4
        }
      ],
      "source": [
        "A.echelon_form()  ## This generates the row-echelon form (ref) of matrix A"
      ]
    },
    {
      "cell_type": "code",
      "execution_count": null,
      "metadata": {
        "colab": {
          "base_uri": "https://localhost:8080/",
          "height": 78
        },
        "id": "PcDAgaVbpP2L",
        "outputId": "7b24c52d-5b84-4a40-c063-fc8b8e65585c"
      },
      "outputs": [
        {
          "output_type": "execute_result",
          "data": {
            "text/plain": [
              "⎛⎡1  0  -1  1  -1⎤        ⎞\n",
              "⎜⎢               ⎥        ⎟\n",
              "⎜⎢0  1  0   0  2 ⎥, (0, 1)⎟\n",
              "⎜⎢               ⎥        ⎟\n",
              "⎝⎣0  0  0   0  0 ⎦        ⎠"
            ],
            "text/latex": "$\\displaystyle \\left( \\left[\\begin{matrix}1 & 0 & -1 & 1 & -1\\\\0 & 1 & 0 & 0 & 2\\\\0 & 0 & 0 & 0 & 0\\end{matrix}\\right], \\  \\left( 0, \\  1\\right)\\right)$"
          },
          "metadata": {},
          "execution_count": 5
        }
      ],
      "source": [
        "A.rref()  ## This generates the reduced row-echelon (rref) of matrix A"
      ]
    },
    {
      "cell_type": "code",
      "execution_count": null,
      "metadata": {
        "colab": {
          "base_uri": "https://localhost:8080/",
          "height": 78
        },
        "id": "SvNCnV_bzoTN",
        "outputId": "0f63ba21-618f-43be-c231-3f1df6f056b6"
      },
      "outputs": [
        {
          "output_type": "execute_result",
          "data": {
            "text/plain": [
              "⎡1  2  -1  1⎤\n",
              "⎢           ⎥\n",
              "⎢1  1  -1  1⎥\n",
              "⎢           ⎥\n",
              "⎣1  3  -1  1⎦"
            ],
            "text/latex": "$\\displaystyle \\left[\\begin{matrix}1 & 2 & -1 & 1\\\\1 & 1 & -1 & 1\\\\1 & 3 & -1 & 1\\end{matrix}\\right]$"
          },
          "metadata": {},
          "execution_count": 34
        }
      ],
      "source": [
        "D=Matrix([[1,2,-1,1],[1,1,-1,1],[1,3,-1,1]])\n",
        "b = Matrix([[3],[4],[1],[2]])\n",
        "D\n"
      ]
    },
    {
      "cell_type": "code",
      "execution_count": null,
      "metadata": {
        "colab": {
          "base_uri": "https://localhost:8080/",
          "height": 98
        },
        "id": "xbOkr1Xszy_C",
        "outputId": "5cc90793-abac-44fe-cfd9-d6cccb6f536e"
      },
      "outputs": [
        {
          "output_type": "execute_result",
          "data": {
            "text/plain": [
              "⎡3⎤\n",
              "⎢ ⎥\n",
              "⎢4⎥\n",
              "⎢ ⎥\n",
              "⎢1⎥\n",
              "⎢ ⎥\n",
              "⎣2⎦"
            ],
            "text/latex": "$\\displaystyle \\left[\\begin{matrix}3\\\\4\\\\1\\\\2\\end{matrix}\\right]$"
          },
          "metadata": {},
          "execution_count": 12
        }
      ],
      "source": [
        "b"
      ]
    },
    {
      "cell_type": "code",
      "source": [
        "D*b"
      ],
      "metadata": {
        "colab": {
          "base_uri": "https://localhost:8080/",
          "height": 78
        },
        "id": "sDe1XmVhA5hh",
        "outputId": "a404c01c-0a86-426f-be51-d7510704e69c"
      },
      "execution_count": null,
      "outputs": [
        {
          "output_type": "execute_result",
          "data": {
            "text/plain": [
              "⎡12⎤\n",
              "⎢  ⎥\n",
              "⎢8 ⎥\n",
              "⎢  ⎥\n",
              "⎣16⎦"
            ],
            "text/latex": "$\\displaystyle \\left[\\begin{matrix}12\\\\8\\\\16\\end{matrix}\\right]$"
          },
          "metadata": {},
          "execution_count": 13
        }
      ]
    },
    {
      "cell_type": "code",
      "execution_count": null,
      "metadata": {
        "colab": {
          "base_uri": "https://localhost:8080/",
          "height": 78
        },
        "id": "Y65CCqdRz0nJ",
        "outputId": "2787279c-4079-469d-f18a-9a57451de0aa"
      },
      "outputs": [
        {
          "data": {
            "text/latex": "$\\displaystyle \\left[\\begin{matrix}7 & -3 & 0\\\\-10 & 5 & -2\\\\4 & -2 & 1\\end{matrix}\\right]$",
            "text/plain": [
              "⎡ 7   -3  0 ⎤\n",
              "⎢           ⎥\n",
              "⎢-10  5   -2⎥\n",
              "⎢           ⎥\n",
              "⎣ 4   -2  1 ⎦"
            ]
          },
          "execution_count": 19,
          "metadata": {},
          "output_type": "execute_result"
        }
      ],
      "source": [
        "C = Matrix([[1,3,6],[2,7,14],[0,2,5]]) ## Defines matrix C\n",
        "C.inv()  ## The inverse of matrix C"
      ]
    },
    {
      "cell_type": "code",
      "execution_count": null,
      "metadata": {
        "colab": {
          "base_uri": "https://localhost:8080/",
          "height": 78
        },
        "id": "po9mxm2Zz8Yg",
        "outputId": "c9174f14-727a-4b3f-8b49-5ad0820f5909"
      },
      "outputs": [
        {
          "output_type": "execute_result",
          "data": {
            "text/plain": [
              "⎡1  3  6 ⎤\n",
              "⎢        ⎥\n",
              "⎢2  7  14⎥\n",
              "⎢        ⎥\n",
              "⎣0  2  5 ⎦"
            ],
            "text/latex": "$\\displaystyle \\left[\\begin{matrix}1 & 3 & 6\\\\2 & 7 & 14\\\\0 & 2 & 5\\end{matrix}\\right]$"
          },
          "metadata": {},
          "execution_count": 36
        }
      ],
      "source": [
        "M = Matrix([[1,3,6],[2,7,14],[0,2,5]])\n",
        "M"
      ]
    },
    {
      "cell_type": "code",
      "execution_count": null,
      "metadata": {
        "id": "3Z9fD46I0V3s",
        "colab": {
          "base_uri": "https://localhost:8080/",
          "height": 78
        },
        "outputId": "9b79e952-d53e-4356-9225-9a30616a4a25"
      },
      "outputs": [
        {
          "output_type": "execute_result",
          "data": {
            "text/plain": [
              "⎛⎡1  0  0⎤           ⎞\n",
              "⎜⎢       ⎥           ⎟\n",
              "⎜⎢0  1  0⎥, (0, 1, 2)⎟\n",
              "⎜⎢       ⎥           ⎟\n",
              "⎝⎣0  0  1⎦           ⎠"
            ],
            "text/latex": "$\\displaystyle \\left( \\left[\\begin{matrix}1 & 0 & 0\\\\0 & 1 & 0\\\\0 & 0 & 1\\end{matrix}\\right], \\  \\left( 0, \\  1, \\  2\\right)\\right)$"
          },
          "metadata": {},
          "execution_count": 37
        }
      ],
      "source": [
        "M.rref()"
      ]
    },
    {
      "cell_type": "code",
      "execution_count": null,
      "metadata": {
        "id": "p2p9RqAy09Pb",
        "colab": {
          "base_uri": "https://localhost:8080/",
          "height": 78
        },
        "outputId": "34511334-76bf-4d4c-805c-f1ce650bcef6"
      },
      "outputs": [
        {
          "output_type": "execute_result",
          "data": {
            "text/plain": [
              "⎡1  3  6⎤\n",
              "⎢       ⎥\n",
              "⎢0  1  2⎥\n",
              "⎢       ⎥\n",
              "⎣0  0  1⎦"
            ],
            "text/latex": "$\\displaystyle \\left[\\begin{matrix}1 & 3 & 6\\\\0 & 1 & 2\\\\0 & 0 & 1\\end{matrix}\\right]$"
          },
          "metadata": {},
          "execution_count": 38
        }
      ],
      "source": [
        "M.echelon_form()"
      ]
    },
    {
      "cell_type": "code",
      "execution_count": null,
      "metadata": {
        "id": "Xy6o7jwl0ciR"
      },
      "outputs": [],
      "source": [
        "A.inv() * b"
      ]
    },
    {
      "cell_type": "code",
      "execution_count": null,
      "metadata": {
        "id": "UdG0vwZx0fYw",
        "colab": {
          "base_uri": "https://localhost:8080/",
          "height": 58
        },
        "outputId": "9d841437-92c2-46a8-d015-3ad0d630df65"
      },
      "outputs": [
        {
          "output_type": "execute_result",
          "data": {
            "text/plain": [
              "⎡1  3  4⎤\n",
              "⎢       ⎥\n",
              "⎣2  5  2⎦"
            ],
            "text/latex": "$\\displaystyle \\left[\\begin{matrix}1 & 3 & 4\\\\2 & 5 & 2\\end{matrix}\\right]$"
          },
          "metadata": {},
          "execution_count": 18
        }
      ],
      "source": [
        "B = Matrix([[1,3,4],[2,5,2]])\n",
        "B"
      ]
    },
    {
      "cell_type": "code",
      "execution_count": null,
      "metadata": {
        "colab": {
          "base_uri": "https://localhost:8080/",
          "height": 78
        },
        "id": "x4YwcbSp0oSu",
        "outputId": "c85cda8a-d6a3-4b84-b4c7-666eefbe23ee"
      },
      "outputs": [
        {
          "output_type": "execute_result",
          "data": {
            "text/plain": [
              "⎡⎡14⎤⎤\n",
              "⎢⎢  ⎥⎥\n",
              "⎢⎢-6⎥⎥\n",
              "⎢⎢  ⎥⎥\n",
              "⎣⎣1 ⎦⎦"
            ],
            "text/latex": "$\\displaystyle \\left[ \\left[\\begin{matrix}14\\\\-6\\\\1\\end{matrix}\\right]\\right]$"
          },
          "metadata": {},
          "execution_count": 17
        }
      ],
      "source": [
        "B.nullspace()"
      ]
    },
    {
      "cell_type": "code",
      "execution_count": null,
      "metadata": {
        "colab": {
          "base_uri": "https://localhost:8080/",
          "height": 58
        },
        "id": "CEDvM8_U0rOH",
        "outputId": "3acab6d4-ecde-4de6-da14-d1d2bace4162"
      },
      "outputs": [
        {
          "output_type": "execute_result",
          "data": {
            "text/plain": [
              "⎡⎡1⎤  ⎡3⎤⎤\n",
              "⎢⎢ ⎥, ⎢ ⎥⎥\n",
              "⎣⎣2⎦  ⎣5⎦⎦"
            ],
            "text/latex": "$\\displaystyle \\left[ \\left[\\begin{matrix}1\\\\2\\end{matrix}\\right], \\  \\left[\\begin{matrix}3\\\\5\\end{matrix}\\right]\\right]$"
          },
          "metadata": {},
          "execution_count": 16
        }
      ],
      "source": [
        "B.columnspace()"
      ]
    },
    {
      "cell_type": "code",
      "source": [],
      "metadata": {
        "id": "-Dds7CFRhqAd"
      },
      "execution_count": null,
      "outputs": []
    },
    {
      "cell_type": "code",
      "source": [
        "## Calculate eigenvalues and eigenvectors\n",
        "\n",
        "# Import numpy\n",
        "import numpy as np\n",
        "\n",
        "# Define a square matrix\n",
        "A = np.array([[5,-10,-5],\n",
        "              [2,14,2], [-4,-8,6]])\n",
        "print(\"\")\n",
        "print(\"Here are the outputs:\")\n",
        "print(\"\")\n",
        "print(\"Matrix A:\")\n",
        "print(A)\n",
        "\n",
        "# Calculate eigenvalues and eigenvectors where eigenvectors is a matrix where each column is an eigenvector corresponding to the eigenvalue in the same position.\n",
        "eigenvalues, eigenvectors = np.linalg.eig(A)\n",
        "\n",
        "# Print results\n",
        "print(\"\")\n",
        "print(\"Eigenvalues:\")\n",
        "print(eigenvalues)\n",
        "print(\"\")\n",
        "print(\"Eigenvectors (as columns):\")\n",
        "print(eigenvectors)"
      ],
      "metadata": {
        "colab": {
          "base_uri": "https://localhost:8080/"
        },
        "id": "tvCCUVCLb_Tl",
        "outputId": "5b626d74-9747-4e55-ef41-fc51e4ba07d0"
      },
      "execution_count": null,
      "outputs": [
        {
          "output_type": "stream",
          "name": "stdout",
          "text": [
            "\n",
            "Here are the outputs:\n",
            "\n",
            "Matrix A:\n",
            "[[  5 -10  -5]\n",
            " [  2  14   2]\n",
            " [ -4  -8   6]]\n",
            "\n",
            "Eigenvalues:\n",
            "[ 5. 10. 10.]\n",
            "\n",
            "Eigenvectors (as columns):\n",
            "[[ 7.45355992e-01  7.44760246e-16 -5.22799043e-01]\n",
            " [-2.98142397e-01 -4.47213595e-01  5.75730417e-01]\n",
            " [ 5.96284794e-01  8.94427191e-01 -6.28661791e-01]]\n"
          ]
        }
      ]
    }
  ],
  "metadata": {
    "colab": {
      "provenance": [],
      "toc_visible": true,
      "include_colab_link": true
    },
    "kernelspec": {
      "display_name": "Python 3",
      "name": "python3"
    },
    "language_info": {
      "name": "python"
    }
  },
  "nbformat": 4,
  "nbformat_minor": 0
}